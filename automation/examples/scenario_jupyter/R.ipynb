{
 "cells": [
  {
   "cell_type": "code",
   "execution_count": null,
   "metadata": {
    "collapsed": false
   },
   "outputs": [],
   "source": [
    "sparkR.session()\n",
    "\n",
    "full_path <- function(file_path) {\n",
    "    working_bucket <- \"S3_BUCKET\"\n",
    "    sprintf(\"s3a://%s/%s\", working_bucket, file_path)\n",
    "}"
   ]
  },
  {
   "cell_type": "markdown",
   "metadata": {},
   "source": [
    "## Parse and convert Carrier data to parquet"
   ]
  },
  {
   "cell_type": "code",
   "execution_count": null,
   "metadata": {
    "collapsed": false
   },
   "outputs": [],
   "source": [
    "carriers <- read.df(full_path(\"train.csv\"), \"csv\", header=\"true\", inferSchema=\"true\")\n",
    "write.df(carriers, path=full_path(\"R_processed/carriers\"), source=\"parquet\", mode=\"overwrite\")\n",
    "createOrReplaceTempView(carriers, \"carriers\")\n",
    "head(carriers, 20)"
   ]
  }
 ],
 "metadata": {
  "kernelspec": {
   "display_name": "SparkR (R-3.2.3, Spark-2.0.2) on [dlab_olehmart_0111-oleh_martushevskyi-emr-om1-emr1-2da7b]",
   "language": "R",
   "name": "KERNEL_NAME"
  },
  "language_info": {
   "codemirror_mode": "r",
   "file_extension": ".r",
   "mimetype": "text/x-r-source",
   "name": "R",
   "pygments_lexer": "r",
   "version": "3.2.3"
  }
 },
 "nbformat": 4,
 "nbformat_minor": 2
}
