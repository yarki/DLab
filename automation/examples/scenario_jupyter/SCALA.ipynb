{
 "cells": [
  {
   "cell_type": "code",
   "execution_count": null,
   "metadata": {
    "collapsed": false
   },
   "outputs": [],
   "source": [
    "import org.apache.spark.sql._\n",
    "\n",
    "val workingBucket = \"s3a://S3_BUCKET\"\n",
    "val sqlCtx = new SQLContext(sc)\n",
    "val hc = sc.hadoopConfiguration\n",
    "hc.set(\"hive.execution.engine\", \"mr\")\n",
    "\n",
    "def fullPath(path: String) = {\n",
    "    s\"$workingBucket/$path\"\n",
    "}"
   ]
  },
  {
   "cell_type": "code",
   "execution_count": null,
   "metadata": {
    "collapsed": false
   },
   "outputs": [],
   "source": [
    "val carriers = sqlCtx.read.\n",
    "                        format(\"com.databricks.spark.csv\").\n",
    "                        option(\"inferSchema\", \"true\").\n",
    "                        option(\"header\", \"true\").\n",
    "                        load(fullPath(\"train.csv\"))\n",
    "carriers.write.mode(SaveMode.Overwrite).parquet(fullPath(\"Scala_processed/carriers/\"))\n",
    "carriers.createOrReplaceTempView(\"carriers\")\n",
    "carriers.show(20)"
   ]
  }
 ],
 "metadata": {
  "kernelspec": {
   "display_name": "Apache Toree - Scala (Scala-2.11.8, Spark-2.0.2) [dlab_olehmart_0111-oleh_martushevskyi-emr-om1-emr1-2da7b]",
   "language": "scala",
   "name": "KERNEL_NAME"
  },
  "language_info": {
   "name": "scala",
   "version": "2.11.8"
  }
 },
 "nbformat": 4,
 "nbformat_minor": 2
}
