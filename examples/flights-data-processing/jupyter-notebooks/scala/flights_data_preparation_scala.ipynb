{
 "cells": [
  {
   "cell_type": "code",
   "execution_count": 1,
   "metadata": {
    "collapsed": false
   },
   "outputs": [],
   "source": [
    "import org.apache.spark.sql._\n",
    "\n",
    "val workingBucket = \"s3a://demo-dlab21new-dmytro-liaskovskyi-bucket\"\n",
    "val sqlCtx = new SQLContext(sc)\n",
    "val hc = sc.hadoopConfiguration\n",
    "hc.set(\"hive.execution.engine\", \"mr\")\n",
    "\n",
    "def fullPath(path: String) = {\n",
    "    s\"$workingBucket/$path\"\n",
    "}"
   ]
  },
  {
   "cell_type": "code",
   "execution_count": null,
   "metadata": {
    "collapsed": false
   },
   "outputs": [],
   "source": [
    "val carriers = sqlCtx.read.\n",
    "                        format(\"com.databricks.spark.csv\").\n",
    "                        option(\"inferSchema\", \"true\").\n",
    "                        option(\"header\", \"true\").\n",
    "                        load(fullPath(\"carriers.csv\"))\n",
    "carriers.write.mode(SaveMode.Overwrite).parquet(fullPath(\"Scala_processed/carriers/\"))\n",
    "carriers.createOrReplaceTempView(\"carriers\")\n",
    "carriers.show(20)"
   ]
  },
  {
   "cell_type": "code",
   "execution_count": 4,
   "metadata": {
    "collapsed": false
   },
   "outputs": [
    {
     "name": "stdout",
     "output_type": "stream",
     "text": [
      "+----+--------------------+------------------+-----+-------+-----------+------------+\n",
      "|iata|             airport|              city|state|country|        lat|        long|\n",
      "+----+--------------------+------------------+-----+-------+-----------+------------+\n",
      "| 00M|            Thigpen |       Bay Springs|   MS|    USA|31.95376472|-89.23450472|\n",
      "| 00R|Livingston Municipal|        Livingston|   TX|    USA|30.68586111|-95.01792778|\n",
      "| 00V|         Meadow Lake|  Colorado Springs|   CO|    USA|38.94574889|-104.5698933|\n",
      "| 01G|        Perry-Warsaw|             Perry|   NY|    USA|42.74134667|-78.05208056|\n",
      "| 01J|    Hilliard Airpark|          Hilliard|   FL|    USA| 30.6880125|-81.90594389|\n",
      "| 01M|   Tishomingo County|           Belmont|   MS|    USA|34.49166667|-88.20111111|\n",
      "| 02A|         Gragg-Wade |           Clanton|   AL|    USA|32.85048667|-86.61145333|\n",
      "| 02C|             Capitol|        Brookfield|   WI|    USA|   43.08751|-88.17786917|\n",
      "| 02G|   Columbiana County|    East Liverpool|   OH|    USA|40.67331278|-80.64140639|\n",
      "| 03D|    Memphis Memorial|           Memphis|   MO|    USA|40.44725889|-92.22696056|\n",
      "| 04M|      Calhoun County|         Pittsboro|   MS|    USA|33.93011222|-89.34285194|\n",
      "| 04Y|    Hawley Municipal|            Hawley|   MN|    USA|46.88384889|-96.35089861|\n",
      "| 05C|Griffith-Merrillv...|          Griffith|   IN|    USA|41.51961917|-87.40109333|\n",
      "| 05F|Gatesville - City...|        Gatesville|   TX|    USA|31.42127556|-97.79696778|\n",
      "| 05U|              Eureka|            Eureka|   NV|    USA|39.60416667|-116.0050597|\n",
      "| 06A|    Moton  Municipal|          Tuskegee|   AL|    USA|32.46047167|-85.68003611|\n",
      "| 06C|          Schaumburg|Chicago/Schaumburg|   IL|    USA|41.98934083|-88.10124278|\n",
      "| 06D|     Rolla Municipal|             Rolla|   ND|    USA|48.88434111|-99.62087694|\n",
      "| 06M|    Eupora Municipal|            Eupora|   MS|    USA|33.53456583|-89.31256917|\n",
      "| 06N|            Randall |        Middletown|   NY|    USA|41.43156583|-74.39191722|\n",
      "+----+--------------------+------------------+-----+-------+-----------+------------+\n",
      "only showing top 20 rows\n",
      "\n"
     ]
    }
   ],
   "source": [
    "val airports = sqlCtx.read.\n",
    "                        format(\"com.databricks.spark.csv\").\n",
    "                        option(\"inferSchema\", \"true\").\n",
    "                        option(\"header\", \"true\").\n",
    "                        load(fullPath(\"airports.csv\"))\n",
    "airports.write.mode(SaveMode.Overwrite).parquet(fullPath(\"Scala_processed/airports/\"))\n",
    "airports.createOrReplaceTempView(\"airports\")\n",
    "airports.show(20)"
   ]
  },
  {
   "cell_type": "code",
   "execution_count": 6,
   "metadata": {
    "collapsed": false
   },
   "outputs": [
    {
     "name": "stdout",
     "output_type": "stream",
     "text": [
      "+--------+------------+------------+--------+\n",
      "|ArrDelay|CarrierDelay|WeatherDelay|Distance|\n",
      "+--------+------------+------------+--------+\n",
      "|     -14|           0|           0|     810|\n",
      "|       2|           0|           0|     810|\n",
      "|      14|           0|           0|     515|\n",
      "|      -6|           0|           0|     515|\n",
      "|      34|           2|           0|     515|\n",
      "|      11|           0|           0|     688|\n",
      "|      57|          10|           0|    1591|\n",
      "|     -18|           0|           0|    1591|\n",
      "|       2|           0|           0|     451|\n",
      "|     -16|           0|           0|     451|\n",
      "|       1|           0|           0|     828|\n",
      "|      80|           8|           0|     828|\n",
      "|       1|           0|           0|     162|\n",
      "|      10|           0|           0|     162|\n",
      "|      -4|           0|           0|     162|\n",
      "|      11|           0|           0|     162|\n",
      "|      15|           3|           0|    1489|\n",
      "|     -15|           0|           0|    1489|\n",
      "|      16|           0|           0|     838|\n",
      "|      37|          12|           0|     220|\n",
      "+--------+------------+------------+--------+\n",
      "only showing top 20 rows\n",
      "\n"
     ]
    }
   ],
   "source": [
    "import sqlCtx.implicits._\n",
    "\n",
    "val flights_w_na = sqlCtx.read.\n",
    "                        format(\"com.databricks.spark.csv\").\n",
    "                        option(\"inferSchema\", \"true\").\n",
    "                        option(\"header\", \"true\").\n",
    "                        option(\"nullValue\", \"NA\").\n",
    "                        load(fullPath(\"2008.csv.bz2\"))\n",
    "val flights = flights_w_na.na.fill(0)\n",
    "flights.write.mode(SaveMode.Overwrite).parquet(fullPath(\"Scala_processed/flights/\"))\n",
    "flights.createOrReplaceTempView(\"flights\")\n",
    "flights.select($\"ArrDelay\",$\"CarrierDelay\",$\"WeatherDelay\",$\"Distance\").show(20)"
   ]
  },
  {
   "cell_type": "code",
   "execution_count": 18,
   "metadata": {
    "collapsed": false
   },
   "outputs": [],
   "source": []
  }
 ],
 "metadata": {
  "kernelspec": {
   "display_name": "Apache Toree - Scala (Spark-2.0.2) [demo-dlab21new-dmytro_liaskovskyi-emr-jupyter-5207-f4e80]",
   "language": "scala",
   "name": "toree_demo-dlab21new-dmytro_liaskovskyi-emr-jupyter-5207-f4e80"
  },
  "language_info": {
   "name": "scala",
   "version": "2.11.8"
  }
 },
 "nbformat": 4,
 "nbformat_minor": 2
}
